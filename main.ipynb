{
 "cells": [
  {
   "cell_type": "code",
   "execution_count": 14,
   "id": "67b62aaf-4fc4-4375-8033-60599c74b02c",
   "metadata": {},
   "outputs": [],
   "source": [
    "import pandas as pd"
   ]
  },
  {
   "cell_type": "code",
   "execution_count": null,
   "id": "8c0b7fb5-ba19-4637-8669-f0c775993508",
   "metadata": {},
   "outputs": [],
   "source": [
    "def main(request):\n",
    "    if(request==\"P1\"):\n",
    "        pass\n",
    "    elif(request==\"P2\"):\n",
    "        pass\n",
    "    elif(request==\"P3\"):\n",
    "        pass\n",
    "    elif(request==\"P4\"):\n",
    "        pass"
   ]
  }
 ],
 "metadata": {
  "kernelspec": {
   "display_name": "Python 3 (ipykernel)",
   "language": "python",
   "name": "python3"
  },
  "language_info": {
   "codemirror_mode": {
    "name": "ipython",
    "version": 3
   },
   "file_extension": ".py",
   "mimetype": "text/x-python",
   "name": "python",
   "nbconvert_exporter": "python",
   "pygments_lexer": "ipython3",
   "version": "3.9.6"
  }
 },
 "nbformat": 4,
 "nbformat_minor": 5
}
