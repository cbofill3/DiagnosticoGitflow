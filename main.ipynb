{
 "cells": [
  {
   "cell_type": "code",
   "execution_count": 1,
   "id": "67b62aaf-4fc4-4375-8033-60599c74b02c",
   "metadata": {},
   "outputs": [],
   "source": [
    "import pandas as pd\n",
    "import re\n",
    "from collections import Counter"
   ]
  },
  {
   "cell_type": "code",
   "execution_count": 2,
   "id": "8da33693-35a6-4630-923d-3ac05b2c185f",
   "metadata": {},
   "outputs": [],
   "source": [
    "def load_data():\n",
    "    raw_tweets = pd.read_json(r'farmers-protest-tweets-2021-03-5.json', lines=True)\n",
    "    raw_tweets = raw_tweets[raw_tweets['lang']=='en']\n",
    "    users = pd.json_normalize(raw_tweets['user'])\n",
    "    users.drop(['description', 'linkTcourl'], axis=1, inplace=True)\n",
    "    users.rename(columns={'id':'userId', 'url':'profileUrl'}, inplace=True)\n",
    "    users = pd.DataFrame(users)\n",
    "    users.drop_duplicates(subset=['userId'], inplace=True)\n",
    "    user_id = []\n",
    "    names = []\n",
    "    for user in raw_tweets['user']:\n",
    "        uid = user['id']\n",
    "        n = user['displayname']\n",
    "        user_id.append(uid)\n",
    "        names.append(n)\n",
    "    raw_tweets['userId'] = user_id\n",
    "    raw_tweets['displayName'] = names\n",
    "    \n",
    "    tags = []\n",
    "    for tweet in raw_tweets['renderedContent']:\n",
    "        t = re.findall(r\"#(\\w+)\", tweet)\n",
    "        tags.append(t)\n",
    "    raw_tweets['tags'] = tags\n",
    "\n",
    "    # Remove less important columns\n",
    "    cols = ['date', 'renderedContent', 'tags', 'id', 'userId', 'displayName', 'retweetCount']\n",
    "    tweets = raw_tweets[cols]\n",
    "    tweets.rename(columns={'id':'tweetId', 'url':'tweetUrl'}, inplace=True)\n",
    "    tweets = pd.DataFrame(tweets)\n",
    "    tweets['date'] = tweets['date'].dt.strftime('%Y-%m-%d')\n",
    "    tweets.drop_duplicates(subset=['tweetId'], inplace=True)\n",
    "    return tweets"
   ]
  },
  {
   "cell_type": "code",
   "execution_count": 3,
   "id": "e88268f8-5c10-4094-9ad2-2aaa9f5cf539",
   "metadata": {},
   "outputs": [],
   "source": [
    "def P1(data):\n",
    "    top10ret = data.nlargest(10, 'retweetCount')\n",
    "    return top10ret"
   ]
  },
  {
   "cell_type": "code",
   "execution_count": 4,
   "id": "29d87dee-c87c-48d4-bebe-674adf9aea10",
   "metadata": {},
   "outputs": [],
   "source": [
    "def P2(data):\n",
    "    top10twe = data.displayName.value_counts().nlargest(10)\n",
    "    return top10twe"
   ]
  },
  {
   "cell_type": "code",
   "execution_count": 5,
   "id": "506eae83-3419-4cfa-9823-ff52c5f48c1a",
   "metadata": {},
   "outputs": [],
   "source": [
    "def P3(data):\n",
    "    top10days = data.date.value_counts().nlargest(10)\n",
    "    return top10days"
   ]
  },
  {
   "cell_type": "code",
   "execution_count": 6,
   "id": "a7186ffe-371a-44b5-9698-ce53314bdb3f",
   "metadata": {},
   "outputs": [],
   "source": [
    "def P4(data):\n",
    "    tag_count = {}\n",
    "    for tags in data['tags']:\n",
    "        for t in tags:\n",
    "            if(t in tag_count.keys()):\n",
    "                tag_count[t] +=1\n",
    "            else:\n",
    "                tag_count[t] = 1\n",
    "    k = Counter(tag_count)\n",
    "    high = k.most_common(10)\n",
    "    for i in high:\n",
    "        print(i[0],\" :\",i[1],\" \")"
   ]
  },
  {
   "cell_type": "code",
   "execution_count": 7,
   "id": "8c0b7fb5-ba19-4637-8669-f0c775993508",
   "metadata": {},
   "outputs": [],
   "source": [
    "def main(request):\n",
    "    data = load_data()\n",
    "    output = \"\"\n",
    "    if(request==\"P1\"):\n",
    "        output = P1(data)\n",
    "        display(output)\n",
    "    elif(request==\"P2\"):\n",
    "        output = P2(data)\n",
    "        display(output)\n",
    "    elif(request==\"P3\"):\n",
    "        output = P3(data)\n",
    "        display(output)\n",
    "    elif(request==\"P4\"):\n",
    "        output = P4(data)"
   ]
  },
  {
   "cell_type": "code",
   "execution_count": 8,
   "id": "7c7981c7-c8dd-4f29-817f-7328f3cbf2ac",
   "metadata": {},
   "outputs": [
    {
     "name": "stderr",
     "output_type": "stream",
     "text": [
      "c:\\users\\crico\\appdata\\local\\programs\\python\\python39\\lib\\site-packages\\pandas\\core\\frame.py:5039: SettingWithCopyWarning: \n",
      "A value is trying to be set on a copy of a slice from a DataFrame\n",
      "\n",
      "See the caveats in the documentation: https://pandas.pydata.org/pandas-docs/stable/user_guide/indexing.html#returning-a-view-versus-a-copy\n",
      "  return super().rename(\n"
     ]
    },
    {
     "data": {
      "text/html": [
       "<div>\n",
       "<style scoped>\n",
       "    .dataframe tbody tr th:only-of-type {\n",
       "        vertical-align: middle;\n",
       "    }\n",
       "\n",
       "    .dataframe tbody tr th {\n",
       "        vertical-align: top;\n",
       "    }\n",
       "\n",
       "    .dataframe thead th {\n",
       "        text-align: right;\n",
       "    }\n",
       "</style>\n",
       "<table border=\"1\" class=\"dataframe\">\n",
       "  <thead>\n",
       "    <tr style=\"text-align: right;\">\n",
       "      <th></th>\n",
       "      <th>date</th>\n",
       "      <th>renderedContent</th>\n",
       "      <th>tags</th>\n",
       "      <th>tweetId</th>\n",
       "      <th>userId</th>\n",
       "      <th>displayName</th>\n",
       "      <th>retweetCount</th>\n",
       "    </tr>\n",
       "  </thead>\n",
       "  <tbody>\n",
       "    <tr>\n",
       "      <th>408128</th>\n",
       "      <td>2021-02-02</td>\n",
       "      <td>why aren’t we talking about this?! #FarmersPro...</td>\n",
       "      <td>[FarmersProtest]</td>\n",
       "      <td>1356625889602199552</td>\n",
       "      <td>79293791</td>\n",
       "      <td>Rihanna</td>\n",
       "      <td>315547</td>\n",
       "    </tr>\n",
       "    <tr>\n",
       "      <th>395142</th>\n",
       "      <td>2021-02-02</td>\n",
       "      <td>We stand in solidarity with the #FarmersProtes...</td>\n",
       "      <td>[FarmersProtest]</td>\n",
       "      <td>1356694884615340037</td>\n",
       "      <td>1006419421244678144</td>\n",
       "      <td>Greta Thunberg</td>\n",
       "      <td>103957</td>\n",
       "    </tr>\n",
       "    <tr>\n",
       "      <th>266196</th>\n",
       "      <td>2021-02-04</td>\n",
       "      <td>I still #StandWithFarmers and support their pe...</td>\n",
       "      <td>[StandWithFarmers, FarmersProtest]</td>\n",
       "      <td>1357282507616645122</td>\n",
       "      <td>1006419421244678144</td>\n",
       "      <td>Greta Thunberg</td>\n",
       "      <td>67694</td>\n",
       "    </tr>\n",
       "    <tr>\n",
       "      <th>366579</th>\n",
       "      <td>2021-02-03</td>\n",
       "      <td>“Paid actors,” huh? Quite the casting director...</td>\n",
       "      <td>[FarmersProtest]</td>\n",
       "      <td>1356848397899112448</td>\n",
       "      <td>2835653131</td>\n",
       "      <td>Mia K.</td>\n",
       "      <td>35921</td>\n",
       "    </tr>\n",
       "    <tr>\n",
       "      <th>372793</th>\n",
       "      <td>2021-02-03</td>\n",
       "      <td>What in the human rights violations is going o...</td>\n",
       "      <td>[FarmersProtest]</td>\n",
       "      <td>1356827705161879553</td>\n",
       "      <td>2835653131</td>\n",
       "      <td>Mia K.</td>\n",
       "      <td>26972</td>\n",
       "    </tr>\n",
       "    <tr>\n",
       "      <th>314192</th>\n",
       "      <td>2021-02-03</td>\n",
       "      <td>Happy to share that I’ve donated $10,000 to pr...</td>\n",
       "      <td>[FarmersProtest]</td>\n",
       "      <td>1357048037302960129</td>\n",
       "      <td>733170759829327874</td>\n",
       "      <td>JuJu Smith-Schuster</td>\n",
       "      <td>23251</td>\n",
       "    </tr>\n",
       "    <tr>\n",
       "      <th>215034</th>\n",
       "      <td>2021-02-05</td>\n",
       "      <td>There has been much social media coverage arou...</td>\n",
       "      <td>[FarmersProtest, India]</td>\n",
       "      <td>1357755699162398720</td>\n",
       "      <td>805185025</td>\n",
       "      <td>Bob Blackman</td>\n",
       "      <td>20132</td>\n",
       "    </tr>\n",
       "    <tr>\n",
       "      <th>398011</th>\n",
       "      <td>2021-02-02</td>\n",
       "      <td>Farmers feed the world. Fight for them. Protec...</td>\n",
       "      <td>[FarmersProtest]</td>\n",
       "      <td>1356681136655769605</td>\n",
       "      <td>1134059457191776257</td>\n",
       "      <td>Vanessa Nakate</td>\n",
       "      <td>18744</td>\n",
       "    </tr>\n",
       "    <tr>\n",
       "      <th>325261</th>\n",
       "      <td>2021-02-03</td>\n",
       "      <td>Should be talking about this! #FarmersProtest\\...</td>\n",
       "      <td>[FarmersProtest]</td>\n",
       "      <td>1357009721090138112</td>\n",
       "      <td>272616327</td>\n",
       "      <td>kuz</td>\n",
       "      <td>17368</td>\n",
       "    </tr>\n",
       "    <tr>\n",
       "      <th>163689</th>\n",
       "      <td>2021-02-09</td>\n",
       "      <td>To all of my influencer/celeb friends- read up...</td>\n",
       "      <td>[FarmersProtest]</td>\n",
       "      <td>1359013362881994752</td>\n",
       "      <td>104856942</td>\n",
       "      <td>Amanda Cerny</td>\n",
       "      <td>15677</td>\n",
       "    </tr>\n",
       "  </tbody>\n",
       "</table>\n",
       "</div>"
      ],
      "text/plain": [
       "              date                                    renderedContent  \\\n",
       "408128  2021-02-02  why aren’t we talking about this?! #FarmersPro...   \n",
       "395142  2021-02-02  We stand in solidarity with the #FarmersProtes...   \n",
       "266196  2021-02-04  I still #StandWithFarmers and support their pe...   \n",
       "366579  2021-02-03  “Paid actors,” huh? Quite the casting director...   \n",
       "372793  2021-02-03  What in the human rights violations is going o...   \n",
       "314192  2021-02-03  Happy to share that I’ve donated $10,000 to pr...   \n",
       "215034  2021-02-05  There has been much social media coverage arou...   \n",
       "398011  2021-02-02  Farmers feed the world. Fight for them. Protec...   \n",
       "325261  2021-02-03  Should be talking about this! #FarmersProtest\\...   \n",
       "163689  2021-02-09  To all of my influencer/celeb friends- read up...   \n",
       "\n",
       "                                      tags              tweetId  \\\n",
       "408128                    [FarmersProtest]  1356625889602199552   \n",
       "395142                    [FarmersProtest]  1356694884615340037   \n",
       "266196  [StandWithFarmers, FarmersProtest]  1357282507616645122   \n",
       "366579                    [FarmersProtest]  1356848397899112448   \n",
       "372793                    [FarmersProtest]  1356827705161879553   \n",
       "314192                    [FarmersProtest]  1357048037302960129   \n",
       "215034             [FarmersProtest, India]  1357755699162398720   \n",
       "398011                    [FarmersProtest]  1356681136655769605   \n",
       "325261                    [FarmersProtest]  1357009721090138112   \n",
       "163689                    [FarmersProtest]  1359013362881994752   \n",
       "\n",
       "                     userId          displayName  retweetCount  \n",
       "408128             79293791              Rihanna        315547  \n",
       "395142  1006419421244678144       Greta Thunberg        103957  \n",
       "266196  1006419421244678144       Greta Thunberg         67694  \n",
       "366579           2835653131               Mia K.         35921  \n",
       "372793           2835653131               Mia K.         26972  \n",
       "314192   733170759829327874  JuJu Smith-Schuster         23251  \n",
       "215034            805185025         Bob Blackman         20132  \n",
       "398011  1134059457191776257       Vanessa Nakate         18744  \n",
       "325261            272616327                  kuz         17368  \n",
       "163689            104856942         Amanda Cerny         15677  "
      ]
     },
     "metadata": {},
     "output_type": "display_data"
    }
   ],
   "source": [
    "main(\"P1\")"
   ]
  },
  {
   "cell_type": "code",
   "execution_count": 9,
   "id": "77d279d1-84f6-4a0f-86f9-06a4f9ae2305",
   "metadata": {},
   "outputs": [
    {
     "name": "stderr",
     "output_type": "stream",
     "text": [
      "c:\\users\\crico\\appdata\\local\\programs\\python\\python39\\lib\\site-packages\\pandas\\core\\frame.py:5039: SettingWithCopyWarning: \n",
      "A value is trying to be set on a copy of a slice from a DataFrame\n",
      "\n",
      "See the caveats in the documentation: https://pandas.pydata.org/pandas-docs/stable/user_guide/indexing.html#returning-a-view-versus-a-copy\n",
      "  return super().rename(\n"
     ]
    },
    {
     "data": {
      "text/plain": [
       "Harjot Singh                                          7295\n",
       "ਕਿਸਾਨAndolajivi ravinder kaur चोकीदार ही कातिल है     2088\n",
       "Jaspal Kaur Bains.For love of Punjab,Sikhi & India    1991\n",
       "Jot                                                   1872\n",
       "Theinactiveactivist                                   1803\n",
       "🍊raman🚜                                               1722\n",
       "Jaz 🇨🇦🌾ਗਰਮ ਖਿਆਲੀ 📌                                    1491\n",
       "JassG                                                 1458\n",
       "Kisan Bot🚜🌾                                           1453\n",
       "mohd khaliquzzama                                     1446\n",
       "Name: displayName, dtype: int64"
      ]
     },
     "metadata": {},
     "output_type": "display_data"
    }
   ],
   "source": [
    "main(\"P2\")"
   ]
  },
  {
   "cell_type": "code",
   "execution_count": 10,
   "id": "bd7b8922-96b2-45fd-a6f6-4caa08711665",
   "metadata": {},
   "outputs": [
    {
     "data": {
      "text/plain": [
       "2021-02-03    83403\n",
       "2021-02-04    58300\n",
       "2021-02-05    33165\n",
       "2021-02-02    28440\n",
       "2021-02-06    22298\n",
       "2021-02-07    11244\n",
       "2021-02-09     9269\n",
       "2021-02-08     8863\n",
       "2021-02-10     7938\n",
       "2021-02-11     5668\n",
       "Name: date, dtype: int64"
      ]
     },
     "metadata": {},
     "output_type": "display_data"
    }
   ],
   "source": [
    "main(\"P3\")"
   ]
  },
  {
   "cell_type": "code",
   "execution_count": 11,
   "id": "56fdeb49-7ee3-4d7a-be01-986e3a72c839",
   "metadata": {},
   "outputs": [
    {
     "name": "stdout",
     "output_type": "stream",
     "text": [
      "FarmersProtest  : 404687  \n",
      "IStandWithFarmers  : 15713  \n",
      "farmersprotest  : 15378  \n",
      "IndianFarmersHumanRights  : 11934  \n",
      "FarmersAreIndia  : 10985  \n",
      "StandWithFarmers  : 10612  \n",
      "Rihanna  : 9088  \n",
      "FarmersProtests  : 8707  \n",
      "Farmers  : 6541  \n",
      "shameonbollywood  : 6222  \n"
     ]
    }
   ],
   "source": [
    "main(\"P4\")"
   ]
  }
 ],
 "metadata": {
  "kernelspec": {
   "display_name": "Python 3 (ipykernel)",
   "language": "python",
   "name": "python3"
  },
  "language_info": {
   "codemirror_mode": {
    "name": "ipython",
    "version": 3
   },
   "file_extension": ".py",
   "mimetype": "text/x-python",
   "name": "python",
   "nbconvert_exporter": "python",
   "pygments_lexer": "ipython3",
   "version": "3.9.6"
  }
 },
 "nbformat": 4,
 "nbformat_minor": 5
}
