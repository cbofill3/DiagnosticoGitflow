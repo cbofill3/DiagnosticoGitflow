{
 "cells": [
  {
   "cell_type": "code",
   "execution_count": 1,
   "id": "67b62aaf-4fc4-4375-8033-60599c74b02c",
   "metadata": {},
   "outputs": [],
   "source": [
    "import pandas as pd"
   ]
  },
  {
   "cell_type": "code",
   "execution_count": 2,
   "id": "8da33693-35a6-4630-923d-3ac05b2c185f",
   "metadata": {},
   "outputs": [],
   "source": [
    "def load_data():\n",
    "    raw_tweets = pd.read_json(r'farmers-protest-tweets-2021-03-5.json', lines=True)\n",
    "    raw_tweets = raw_tweets[raw_tweets['lang']=='en']\n",
    "    users = pd.json_normalize(raw_tweets['user'])\n",
    "    users.drop(['description', 'linkTcourl'], axis=1, inplace=True)\n",
    "    users.rename(columns={'id':'userId', 'url':'profileUrl'}, inplace=True)\n",
    "    users = pd.DataFrame(users)\n",
    "    users.drop_duplicates(subset=['userId'], inplace=True)\n",
    "    user_id = []\n",
    "    names = []\n",
    "    for user in raw_tweets['user']:\n",
    "        uid = user['id']\n",
    "        n = user['displayname']\n",
    "        user_id.append(uid)\n",
    "        names.append(n)\n",
    "    raw_tweets['userId'] = user_id\n",
    "    raw_tweets['displayName'] = names\n",
    "\n",
    "    # Remove less important columns\n",
    "    cols = ['url', 'date', 'renderedContent', 'id', 'userId', 'displayName', 'replyCount', 'retweetCount', 'likeCount', 'quoteCount', 'source', 'media', 'retweetedTweet', 'quotedTweet', 'mentionedUsers']\n",
    "    tweets = raw_tweets[cols]\n",
    "    tweets.rename(columns={'id':'tweetId', 'url':'tweetUrl'}, inplace=True)\n",
    "    tweets = pd.DataFrame(tweets)\n",
    "    tweets['date'] = tweets['date'].dt.strftime('%Y-%m-%d')\n",
    "    tweets.drop_duplicates(subset=['tweetId'], inplace=True)\n",
    "    return tweets"
   ]
  },
  {
   "cell_type": "code",
   "execution_count": null,
   "id": "2c129318-c81d-46bc-b3cb-a473e8099e21",
   "metadata": {},
   "outputs": [],
   "source": [
    "data = load_data()\n",
    "data.head()"
   ]
  },
  {
   "cell_type": "code",
   "execution_count": 3,
   "id": "e88268f8-5c10-4094-9ad2-2aaa9f5cf539",
   "metadata": {},
   "outputs": [],
   "source": [
    "def P1(data):\n",
    "    top10ret = data.nlargest(10, 'retweetCount')\n",
    "    return top10ret"
   ]
  },
  {
   "cell_type": "code",
   "execution_count": 4,
   "id": "29d87dee-c87c-48d4-bebe-674adf9aea10",
   "metadata": {},
   "outputs": [],
   "source": [
    "def P2(data):\n",
    "    top10twe = data.displayName.value_counts().nlargest(10)\n",
    "    return top10twe"
   ]
  },
  {
   "cell_type": "code",
   "execution_count": 5,
   "id": "506eae83-3419-4cfa-9823-ff52c5f48c1a",
   "metadata": {},
   "outputs": [],
   "source": [
    "def P3(data):\n",
    "    top10days = data.date.value_counts().nlargest(10)\n",
    "    return top10days"
   ]
  },
  {
   "cell_type": "code",
   "execution_count": 17,
   "id": "8c0b7fb5-ba19-4637-8669-f0c775993508",
   "metadata": {},
   "outputs": [],
   "source": [
    "def main(request):\n",
    "    data = load_data()\n",
    "    output = \"\"\n",
    "    if(request==\"P1\"):\n",
    "        output = P1(data)\n",
    "        display(output)\n",
    "    elif(request==\"P2\"):\n",
    "        output = P2(data)\n",
    "        display(output)\n",
    "    elif(request==\"P3\"):\n",
    "        output = P3(data)\n",
    "        display(output)\n",
    "    elif(request==\"P4\"):\n",
    "        pass"
   ]
  },
  {
   "cell_type": "code",
   "execution_count": null,
   "id": "91b2e1f3-a82a-4346-8293-ca3ce9685c68",
   "metadata": {},
   "outputs": [],
   "source": [
    "main(\"P1\")"
   ]
  },
  {
   "cell_type": "code",
   "execution_count": null,
   "id": "0de45ae4-336f-40cb-bf7e-751f08716ca5",
   "metadata": {},
   "outputs": [],
   "source": []
  }
 ],
 "metadata": {
  "kernelspec": {
   "display_name": "Python 3 (ipykernel)",
   "language": "python",
   "name": "python3"
  },
  "language_info": {
   "codemirror_mode": {
    "name": "ipython",
    "version": 3
   },
   "file_extension": ".py",
   "mimetype": "text/x-python",
   "name": "python",
   "nbconvert_exporter": "python",
   "pygments_lexer": "ipython3",
   "version": "3.9.6"
  }
 },
 "nbformat": 4,
 "nbformat_minor": 5
}
